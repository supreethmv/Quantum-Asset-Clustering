{
 "cells": [
  {
   "cell_type": "markdown",
   "metadata": {},
   "source": [
    "## Import Dependencies"
   ]
  },
  {
   "cell_type": "code",
   "execution_count": null,
   "metadata": {},
   "outputs": [],
   "source": [
    "import yfinance as yf\n",
    "import pandas as pd\n",
    "import numpy as np\n",
    "import networkx as nx\n",
    "import gurobipy as gp\n",
    "from gurobipy import GRB\n",
    "\n",
    "import time\n",
    "\n",
    "import matplotlib.pyplot as plt\n",
    "import seaborn as sns\n",
    "\n",
    "import csv\n",
    "import os\n",
    "\n",
    "import itertools\n",
    "\n",
    "from dwave.system import DWaveSampler, EmbeddingComposite\n",
    "from dimod import BinaryQuadraticModel\n",
    "import dimod\n",
    "\n",
    "from scipy.linalg import eigh\n"
   ]
  },
  {
   "cell_type": "code",
   "execution_count": 4,
   "metadata": {},
   "outputs": [],
   "source": [
    "import warnings\n",
    "\n",
    "warnings.filterwarnings('ignore')"
   ]
  },
  {
   "cell_type": "markdown",
   "metadata": {},
   "source": [
    "## GCS-Q Algorithm"
   ]
  },
  {
   "cell_type": "code",
   "execution_count": null,
   "metadata": {},
   "outputs": [],
   "source": [
    "# Step 1: Construct the initial graph from the adjacency matrix\n",
    "def construct_graph(adj_matrix):\n",
    "    G = nx.Graph()\n",
    "    num_nodes = len(adj_matrix)\n",
    "    for i in range(num_nodes):\n",
    "        for j in range(i + 1, num_nodes):\n",
    "            if adj_matrix[i][j] != 0:\n",
    "                G.add_edge(i, j, weight=adj_matrix[i][j])\n",
    "    return G\n",
    "\n",
    "# Step 2: Define the function to calculate coalition value (sum of weights)\n",
    "def coalition_value(subgraph):\n",
    "    return subgraph.size(weight='weight')\n",
    "\n",
    "\n",
    "def get_qubo_matrix(W):\n",
    "    \"\"\"Computes the QUBO matrix for the Minimum Cut problem given a weight matrix W.\"\"\"\n",
    "    n = W.shape[0]  # Number of nodes\n",
    "    Q = np.zeros((n, n))  # Initialize QUBO matrix\n",
    "    for i in range(n):\n",
    "        Q[i, i] = np.sum(W[i])  # Diagonal terms (degree of node)\n",
    "        for j in range(n):\n",
    "            if i != j:\n",
    "                Q[i, j] = -W[i, j]  # Off-diagonal terms (negative adjacency)\n",
    "    return Q\n",
    "\n",
    "# Step 3: Bipartitioning using QUBO and Quantum Annealing\n",
    "def bipartition(graph):\n",
    "    if len(graph.nodes())==1:\n",
    "       return [], [0], 0\n",
    "    w = nx.adjacency_matrix(graph).todense()\n",
    "    qubo = get_qubo_matrix(W = w)\n",
    "    bqm = BinaryQuadraticModel.from_qubo(qubo)\n",
    "    sampler = EmbeddingComposite(DWaveSampler(token = open('dwave-api-token.txt','r').read(), solver={'topology__type': 'pegasus'}))\n",
    "    sampleset = sampler.sample(bqm, num_reads=1000)\n",
    "    qpu_access_time = sampleset.info['timing']['qpu_access_time']\n",
    "    solution = sampleset.first.sample\n",
    "    partition1 = [node for node in solution if solution[node] == 1]\n",
    "    partition2 = [node for node in solution if solution[node] == 0]\n",
    "    return partition1, partition2, qpu_access_time\n",
    "\n",
    "def gurobi_qubo_solver(qubo_matrix):\n",
    "    n = qubo_matrix.shape[0]\n",
    "    model = gp.Model()\n",
    "    x = model.addVars(n, vtype=GRB.BINARY)\n",
    "    obj_expr = gp.quicksum(qubo_matrix[i, j] * x[i] * x[j] for i in range(n) for j in range(n))\n",
    "    model.setObjective(obj_expr)\n",
    "    model.setParam('OutputFlag', 0)\n",
    "    model.optimize()\n",
    "    if model.status == GRB.OPTIMAL:\n",
    "        solution = [int(x[i].X) for i in range(n)]\n",
    "        binary_string = ''.join(str(bit) for bit in solution)\n",
    "        return binary_string, model.objVal\n",
    "    else:\n",
    "        return None, None\n",
    "\n",
    "# Step 3: Bipartitioning using QUBO and Quantum Annealing\n",
    "def bipartition_gurobi(graph):\n",
    "    if len(graph.nodes())==1:\n",
    "       return [], [0]\n",
    "    w = nx.adjacency_matrix(graph).todense()\n",
    "    qubo = get_qubo_matrix(W = w)\n",
    "    solution_str, objective_value = gurobi_qubo_solver(qubo)\n",
    "    solution = {idx:int(bit) for idx,bit in enumerate(solution_str)}\n",
    "    partition1 = [node for node in solution if solution[node] == 1]\n",
    "    partition2 = [node for node in solution if solution[node] == 0]\n",
    "    return partition1, partition2\n",
    "\n",
    "\n",
    "# Step 4: Iterative GCS-Q Algorithm\n",
    "def gcs_q_algorithm(adj_matrix, qubo_solver = \"dwave\"):\n",
    "    G = construct_graph(adj_matrix)\n",
    "    grand_coalition = list(G.nodes)\n",
    "    queue = [grand_coalition]\n",
    "    CS_star = []\n",
    "    while queue:\n",
    "        C = queue.pop(0)  # Dequeue the first coalition\n",
    "        subgraph = G.subgraph(C).copy()\n",
    "        # Solve the optimal split problem\n",
    "        if qubo_solver == \"dwave\":\n",
    "            partition1, partition2, qpu_access_time = bipartition(subgraph)\n",
    "        else:\n",
    "            partition1, partition2 = bipartition_gurobi(subgraph)\n",
    "        partition1 = [C[subgraph_node_index] for subgraph_node_index in partition1]\n",
    "        partition2 = [C[subgraph_node_index] for subgraph_node_index in partition2]\n",
    "        if not partition2:  # If no meaningful split is found\n",
    "            CS_star.append(partition1)\n",
    "        elif not partition1:\n",
    "            CS_star.append(partition2)\n",
    "        else:  # If a meaningful split is found, enqueue the partitions\n",
    "            queue.append(partition1)\n",
    "            queue.append(partition2)\n",
    "    return CS_star"
   ]
  },
  {
   "cell_type": "markdown",
   "metadata": {},
   "source": [
    "## PAM Algorithm"
   ]
  },
  {
   "cell_type": "code",
   "execution_count": 8,
   "metadata": {},
   "outputs": [],
   "source": [
    "def calculate_total_cost(distance_matrix, medoids, clusters):\n",
    "    total_cost = 0\n",
    "    for medoid, cluster in zip(medoids, clusters):\n",
    "        total_cost += np.sum(distance_matrix[cluster][:, medoid])\n",
    "    return total_cost\n",
    "\n",
    "def assign_clusters(distance_matrix, medoids):\n",
    "    clusters = [[] for _ in range(len(medoids))]\n",
    "    for i in range(distance_matrix.shape[0]):\n",
    "        distances_to_medoids = [distance_matrix[i, medoid] for medoid in medoids]\n",
    "        closest_medoid = np.argmin(distances_to_medoids)\n",
    "        clusters[closest_medoid].append(i)\n",
    "    return clusters\n",
    "\n",
    "def pam(distance_matrix, k, max_iter=100):\n",
    "    # Step 1: Initialize medoids\n",
    "    medoids = np.random.choice(distance_matrix.shape[0], k, replace=False)\n",
    "    best_medoids = medoids.copy()\n",
    "    clusters = assign_clusters(distance_matrix, medoids)\n",
    "    best_cost = calculate_total_cost(distance_matrix, medoids, clusters)\n",
    "    \n",
    "    for _ in range(max_iter):\n",
    "        for medoid_idx in range(k):\n",
    "            current_medoid = medoids[medoid_idx]\n",
    "            non_medoids = [i for i in range(distance_matrix.shape[0]) if i not in medoids]\n",
    "            \n",
    "            for new_medoid in non_medoids:\n",
    "                new_medoids = medoids.copy()\n",
    "                new_medoids[medoid_idx] = new_medoid\n",
    "                new_clusters = assign_clusters(distance_matrix, new_medoids)\n",
    "                new_cost = calculate_total_cost(distance_matrix, new_medoids, new_clusters)\n",
    "                \n",
    "                if new_cost < best_cost:\n",
    "                    best_cost = new_cost\n",
    "                    best_medoids = new_medoids.copy()\n",
    "                    clusters = new_clusters\n",
    "                    \n",
    "        if np.array_equal(best_medoids, medoids):\n",
    "            break\n",
    "        else:\n",
    "            medoids = best_medoids.copy()\n",
    "    \n",
    "    return best_medoids, clusters\n",
    "\n",
    "def clusters_as_set_of_sets(clusters):\n",
    "    return [cluster for cluster in clusters]\n",
    "\n"
   ]
  },
  {
   "cell_type": "markdown",
   "metadata": {},
   "source": [
    "#### Method for finding $k$"
   ]
  },
  {
   "cell_type": "code",
   "execution_count": 9,
   "metadata": {},
   "outputs": [],
   "source": [
    "def basic_laplacian(A, normalize=True):\n",
    "    D = np.diag(np.sum(A, axis=1))\n",
    "    L = D - A\n",
    "    if normalize:\n",
    "        with np.errstate(divide='ignore'):\n",
    "            D_inv_sqrt = np.diag(1.0 / np.sqrt(np.sum(A, axis=1)))\n",
    "            D_inv_sqrt[np.isinf(D_inv_sqrt)] = 0.0\n",
    "        L = D_inv_sqrt @ L @ D_inv_sqrt\n",
    "    return L\n",
    "\n",
    "def dual_laplacian(adj_matrix):\n",
    "    A_pos = np.clip(adj_matrix, 0, 1)\n",
    "    A_neg = -np.clip(adj_matrix, -1, 0)  # turn negatives into positive magnitudes\n",
    "\n",
    "    # Construct two Laplacians\n",
    "    L_pos = basic_laplacian(A_pos, normalize=True)\n",
    "    L_neg = basic_laplacian(A_neg, normalize=True)\n",
    "\n",
    "    # Combined Laplacian (penalize negative connections)\n",
    "    L_combined = L_pos + L_neg\n",
    "    \n",
    "    return L_combined\n",
    "\n",
    "def calculate_signed_laplacian(adj_matrix, normalize=True):\n",
    "\n",
    "    # Step 1: Degree matrix (absolute weights to compute correct strength)\n",
    "    abs_A = np.abs(adj_matrix)\n",
    "    degrees = np.sum(abs_A, axis=1)\n",
    "    D = np.diag(degrees)\n",
    "\n",
    "    # Step 2: Signed Laplacian\n",
    "    L_signed = D - adj_matrix  # This keeps negative edges intact\n",
    "\n",
    "    if normalize:\n",
    "        # Step 3: Normalize: L_sym = D^(-1/2) * L * D^(-1/2)\n",
    "        with np.errstate(divide='ignore'):\n",
    "            D_inv_sqrt = np.diag(1.0 / np.sqrt(degrees))\n",
    "            D_inv_sqrt[np.isinf(D_inv_sqrt)] = 0.0  # handle zero degrees\n",
    "\n",
    "        L_signed = D_inv_sqrt @ L_signed @ D_inv_sqrt\n",
    "\n",
    "    return L_signed"
   ]
  },
  {
   "cell_type": "code",
   "execution_count": 10,
   "metadata": {},
   "outputs": [],
   "source": [
    "def spectral_gap_method(eigenvalues, max_k,skip=2):\n",
    "    diffs = np.diff(eigenvalues[skip:max_k + skip])\n",
    "    return np.argmax(diffs) + 1 + skip"
   ]
  },
  {
   "cell_type": "code",
   "execution_count": null,
   "metadata": {},
   "outputs": [],
   "source": []
  },
  {
   "cell_type": "markdown",
   "metadata": {},
   "source": [
    "## SPONGE"
   ]
  },
  {
   "cell_type": "code",
   "execution_count": 11,
   "metadata": {},
   "outputs": [],
   "source": [
    "from signet.cluster import Cluster \n",
    "from signet.block_models import SSBM\n",
    "from sklearn.metrics import adjusted_rand_score\n",
    "from scipy.sparse import csc_matrix\n"
   ]
  },
  {
   "cell_type": "code",
   "execution_count": null,
   "metadata": {},
   "outputs": [],
   "source": [
    "def sponge_clustering_wrapper(adj_matrix, k, method = 'SPONGE'):\n",
    "    \"\"\"\n",
    "    Adapts the SPONGE/signet clustering approach to take an adjacency matrix \n",
    "    (e.g., a correlation matrix) and the number of clusters k as input,\n",
    "    and returns the cluster compositions.\n",
    "\n",
    "    Parameters:\n",
    "    ----------\n",
    "    adj_matrix : np.ndarray\n",
    "        The input adjacency matrix. For stock analysis, this would be your \n",
    "        correlation matrix (e.g., corr_matrix_np from this notebook).\n",
    "        It's assumed that positive values indicate positive relationships/similarity\n",
    "        and negative values indicate negative relationships/dissimilarity.\n",
    "    k : int\n",
    "        The desired number of clusters.\n",
    "\n",
    "    Returns:\n",
    "    -------\n",
    "    list of lists\n",
    "        A list where each inner list contains the indices of the items (stocks) \n",
    "        belonging to that cluster.\n",
    "        Returns None if the signet library is not available or an error occurs.\n",
    "    \"\"\"\n",
    "    try:\n",
    "        from signet.cluster import Cluster # Attempt to import here\n",
    "    except ImportError:\n",
    "        print(\"Error: The 'signet' library is not installed or available.\")\n",
    "        print(\"Please install it (e.g., 'pip install signet-nmf') to use this function.\")\n",
    "        return None\n",
    "\n",
    "    # 1. Transform the input adjacency matrix into Ap and An matrices\n",
    "    # Ap contains positive relationships (e.g., positive correlations)\n",
    "    # An contains negative relationships (e.g., absolute values of negative correlations)\n",
    "    # Ensure input is a NumPy array\n",
    "    if not isinstance(adj_matrix, np.ndarray):\n",
    "        adj_matrix = np.array(adj_matrix)\n",
    "\n",
    "    Ap = csc_matrix(np.maximum(0, adj_matrix))  # Keep only positive values, rest are 0\n",
    "    An = csc_matrix(np.maximum(0, -adj_matrix)) # Take absolute of negative values, rest are 0\n",
    "\n",
    "    # 2. Perform clustering using signet\n",
    "    # Ensure Ap and An are in the correct format (e.g. sparse matrices if required by signet for large graphs,\n",
    "    # but for typical dense correlation matrices from pandas, numpy arrays are usually fine)\n",
    "    try:\n",
    "        cluster_model = Cluster((Ap, An))\n",
    "        # 'normalisation' can be 'sym', 'rw', or None. 'sym' is often a good default.\n",
    "        if method == 'SPONGE':\n",
    "            predictions = cluster_model.SPONGE(k=k)\n",
    "        elif method == 'SPONGE_sym':\n",
    "            predictions = cluster_model.SPONGE_sym(k=k)\n",
    "    except Exception as e:\n",
    "        print(f\"An error occurred during SPONGE clustering: {e}\")\n",
    "        return None\n",
    "\n",
    "    # 3. Convert the predictions array into a list of clusters\n",
    "    # predictions is an array where predictions[i] is the cluster ID for item i.\n",
    "    if predictions is None:\n",
    "        print(\"SPONGE clustering did not return predictions.\")\n",
    "        return None\n",
    "\n",
    "    num_actual_clusters = len(np.unique(predictions))\n",
    "    if num_actual_clusters != k:\n",
    "        print(f\"Warning: SPONGE returned {num_actual_clusters} clusters, but {k} were requested.\")\n",
    "        # Proceeding with the clusters found. You might want to handle this differently.\n",
    "\n",
    "    output_clusters = [[] for _ in range(num_actual_clusters)]\n",
    "    for item_index, cluster_id in enumerate(predictions):\n",
    "        output_clusters[cluster_id].append(item_index)\n",
    "        \n",
    "    return output_clusters"
   ]
  },
  {
   "cell_type": "code",
   "execution_count": null,
   "metadata": {},
   "outputs": [],
   "source": []
  },
  {
   "cell_type": "markdown",
   "metadata": {},
   "source": [
    "## Functions for Evaluating Metrics"
   ]
  },
  {
   "cell_type": "code",
   "execution_count": 15,
   "metadata": {},
   "outputs": [],
   "source": [
    "from itertools import combinations\n",
    "\n",
    "def penalty_metric(adj_matrix, clusters):\n",
    "    penalty = 0\n",
    "    for cluster in clusters:\n",
    "        for i, j in combinations(cluster, 2):\n",
    "            if adj_matrix[i, j] < 0:  # Penalize intra-cluster negative edges\n",
    "                penalty += abs(adj_matrix[i, j])\n",
    "    for i in range(len(adj_matrix)):\n",
    "        for j in range(len(adj_matrix)):\n",
    "            if i != j and adj_matrix[i, j] > 0:  # Penalize inter-cluster positive edges\n",
    "                in_same_cluster = any(i in cluster and j in cluster for cluster in clusters)\n",
    "                if not in_same_cluster:\n",
    "                    penalty += adj_matrix[i, j]\n",
    "    return penalty"
   ]
  },
  {
   "cell_type": "markdown",
   "metadata": {},
   "source": [
    "## Run Experiments"
   ]
  },
  {
   "cell_type": "markdown",
   "metadata": {},
   "source": [
    "#### Prepare Data"
   ]
  },
  {
   "cell_type": "code",
   "execution_count": null,
   "metadata": {},
   "outputs": [],
   "source": [
    "# Define the diversified stock tickers\n",
    "tickers = [\n",
    "    'AAPL', 'MSFT', 'GOOGL', 'AMZN', 'META', 'NVDA', 'INTC', 'CSCO', 'JPM', 'GS', \n",
    "    'BAC', 'WFC', 'C', 'MS', 'JNJ', 'PFE', 'MRK', 'ABBV', 'MRNA', 'BMY',\n",
    "    'XOM', 'CVX', 'COP', 'SLB', 'HAL', 'OXY', 'HD', 'MCD', 'NKE', 'SBUX',\n",
    "    'TGT', 'DIS', 'PG', 'KO', 'PEP', 'WMT', 'COST', 'MDLZ', 'BA', 'GE', \n",
    "    'UNP', 'MMM', 'CAT', 'HON', 'NEE', 'DUK', 'SO', 'EXC', 'VZ', 'T',\n",
    "    'TSLA', 'NFLX', 'ADBE', 'ORCL', 'CRM', 'IBM', 'AMD', 'QCOM', 'TXN', 'MU',\n",
    "    'V', 'MA', 'PYPL', 'AXP', 'BK', 'BLK', 'SCHW', 'SPGI', 'TMO', 'DHR',\n",
    "    'ABT', 'GILD', 'LLY', 'CVS', 'UNH', 'UPS', 'FDX', 'LMT', 'RTX', 'GD'\n",
    "]\n"
   ]
  },
  {
   "cell_type": "code",
   "execution_count": 19,
   "metadata": {},
   "outputs": [],
   "source": [
    "import pandas as pd\n",
    "\n",
    "def get_tickers_by_sector(csv_file, num_per_sector):\n",
    "    \"\"\"\n",
    "    Reads a CSV file with columns Symbol, Name, Sector and returns a list of tickers,\n",
    "    selecting up to num_per_sector tickers from each sector (randomly if more available).\n",
    "    \"\"\"\n",
    "    df = pd.read_csv(csv_file)\n",
    "    tickers = []\n",
    "    for sector, group in df.groupby('Sector'):\n",
    "        print(sector)\n",
    "        selected = group.sample(n=min(num_per_sector, len(group)), random_state=42)\n",
    "        tickers.extend(selected['Symbol'].tolist())\n",
    "    return tickers\n",
    "\n",
    "# Example usage:\n"
   ]
  },
  {
   "cell_type": "code",
   "execution_count": 68,
   "metadata": {},
   "outputs": [],
   "source": [
    "from datetime import datetime, timedelta\n",
    "import pandas as pd"
   ]
  },
  {
   "cell_type": "code",
   "execution_count": 92,
   "metadata": {},
   "outputs": [
    {
     "data": {
      "text/plain": [
       "[datetime.datetime(2025, 1, 1, 0, 0),\n",
       " datetime.datetime(2025, 1, 2, 0, 0),\n",
       " datetime.datetime(2025, 1, 3, 0, 0),\n",
       " datetime.datetime(2025, 1, 4, 0, 0),\n",
       " datetime.datetime(2025, 1, 5, 0, 0),\n",
       " datetime.datetime(2025, 1, 6, 0, 0),\n",
       " datetime.datetime(2025, 1, 7, 0, 0),\n",
       " datetime.datetime(2025, 1, 8, 0, 0),\n",
       " datetime.datetime(2025, 1, 9, 0, 0),\n",
       " datetime.datetime(2025, 1, 10, 0, 0),\n",
       " datetime.datetime(2025, 1, 11, 0, 0),\n",
       " datetime.datetime(2025, 1, 12, 0, 0),\n",
       " datetime.datetime(2025, 1, 13, 0, 0),\n",
       " datetime.datetime(2025, 1, 14, 0, 0),\n",
       " datetime.datetime(2025, 1, 15, 0, 0),\n",
       " datetime.datetime(2025, 1, 16, 0, 0),\n",
       " datetime.datetime(2025, 1, 17, 0, 0),\n",
       " datetime.datetime(2025, 1, 18, 0, 0),\n",
       " datetime.datetime(2025, 1, 19, 0, 0),\n",
       " datetime.datetime(2025, 1, 20, 0, 0),\n",
       " datetime.datetime(2025, 1, 21, 0, 0),\n",
       " datetime.datetime(2025, 1, 22, 0, 0),\n",
       " datetime.datetime(2025, 1, 23, 0, 0),\n",
       " datetime.datetime(2025, 1, 24, 0, 0),\n",
       " datetime.datetime(2025, 1, 25, 0, 0),\n",
       " datetime.datetime(2025, 1, 26, 0, 0),\n",
       " datetime.datetime(2025, 1, 27, 0, 0),\n",
       " datetime.datetime(2025, 1, 28, 0, 0),\n",
       " datetime.datetime(2025, 1, 29, 0, 0),\n",
       " datetime.datetime(2025, 1, 30, 0, 0),\n",
       " datetime.datetime(2025, 1, 31, 0, 0),\n",
       " datetime.datetime(2025, 2, 1, 0, 0)]"
      ]
     },
     "execution_count": 92,
     "metadata": {},
     "output_type": "execute_result"
    }
   ],
   "source": [
    "from datetime import timedelta\n",
    "\n",
    "def generate_days(global_start, global_end):\n",
    "    days = []\n",
    "    current = global_start\n",
    "    while current <= global_end:\n",
    "        days.append(current)\n",
    "        current += timedelta(days=1)\n",
    "    return days\n",
    "\n",
    "# Example usage:\n",
    "global_start = datetime(2025, 1, 1)\n",
    "global_end = datetime(2025, 2, 1)\n",
    "days = generate_days(global_start, global_end)\n",
    "days"
   ]
  },
  {
   "cell_type": "code",
   "execution_count": null,
   "metadata": {},
   "outputs": [
    {
     "name": "stderr",
     "output_type": "stream",
     "text": [
      "[********              16%                       ]  8 of 50 completed"
     ]
    },
    {
     "name": "stdout",
     "output_type": "stream",
     "text": [
      "Processing day: 2025-01-01 to 2025-01-02\n",
      "2025-01-01 to 2025-01-02\n"
     ]
    },
    {
     "name": "stderr",
     "output_type": "stream",
     "text": [
      "[*********************100%***********************]  50 of 50 completed\n",
      "\n",
      "50 Failed downloads:\n",
      "['EXC', 'MS', 'KO', 'BA', 'MSFT', 'HON', 'WMT', 'HD', 'PFE', 'MRNA', 'JPM', 'CSCO', 'HAL', 'APD', 'PG', 'DUK', 'META', 'COST', 'NEE', 'XOM', 'TGT', 'BAC', 'PEP', 'DIS', 'VZ', 'AAPL', 'BMY', 'GE', 'MRK', 'INTC', 'MDLZ', 'CAT', 'COP', 'NKE', 'CVX', 'MCD', 'T', 'GOOGL', 'UNP', 'SO', 'OXY', 'C', 'MMM', 'SBUX', 'WFC', 'SLB', 'AMZN', 'JNJ', 'NVDA', 'GS']: YFPricesMissingError('possibly delisted; no price data found  (1h 2025-01-01 -> 2025-01-02)')\n",
      "[******                12%                       ]  6 of 50 completed"
     ]
    },
    {
     "name": "stdout",
     "output_type": "stream",
     "text": [
      "Error processing day 2025-01-01: array must not contain infs or NaNs\n",
      "Processing day: 2025-01-02 to 2025-01-03\n",
      "2025-01-02 to 2025-01-03\n"
     ]
    },
    {
     "name": "stderr",
     "output_type": "stream",
     "text": [
      "[*********************100%***********************]  50 of 50 completed\n",
      "[*******               14%                       ]  7 of 50 completed"
     ]
    },
    {
     "name": "stdout",
     "output_type": "stream",
     "text": [
      "Processing day: 2025-01-03 to 2025-01-04\n",
      "2025-01-03 to 2025-01-04\n"
     ]
    },
    {
     "name": "stderr",
     "output_type": "stream",
     "text": [
      "[*********************100%***********************]  50 of 50 completed\n",
      "[**************        30%                       ]  15 of 50 completed"
     ]
    },
    {
     "name": "stdout",
     "output_type": "stream",
     "text": [
      "Processing day: 2025-01-04 to 2025-01-05\n",
      "2025-01-04 to 2025-01-05\n"
     ]
    },
    {
     "name": "stderr",
     "output_type": "stream",
     "text": [
      "[*********************100%***********************]  50 of 50 completed\n",
      "\n",
      "50 Failed downloads:\n",
      "['NEE', 'PG', 'HON', 'META', 'DUK', 'HAL', 'COST', 'MSFT', 'BA', 'XOM', 'KO', 'HD', 'PFE', 'EXC', 'APD', 'MRNA', 'WMT', 'MS', 'JPM', 'CSCO', 'CAT', 'PEP', 'T', 'DIS', 'AAPL', 'GOOGL', 'BMY', 'MCD', 'TGT', 'VZ', 'GE', 'UNP', 'BAC', 'MRK', 'OXY', 'INTC', 'CVX', 'SBUX', 'AMZN', 'COP', 'MDLZ', 'WFC', 'NKE', 'C', 'JNJ', 'SLB', 'SO', 'GS', 'NVDA', 'MMM']: YFPricesMissingError('possibly delisted; no price data found  (1h 2025-01-04 -> 2025-01-05)')\n",
      "[***********           22%                       ]  11 of 50 completed"
     ]
    },
    {
     "name": "stdout",
     "output_type": "stream",
     "text": [
      "Error processing day 2025-01-04: array must not contain infs or NaNs\n",
      "Processing day: 2025-01-05 to 2025-01-06\n",
      "2025-01-05 to 2025-01-06\n"
     ]
    },
    {
     "name": "stderr",
     "output_type": "stream",
     "text": [
      "[*********************100%***********************]  50 of 50 completed\n",
      "\n",
      "50 Failed downloads:\n",
      "['BA', 'NEE', 'PG', 'KO', 'HON', 'APD', 'MS', 'META', 'HD', 'HAL', 'CSCO', 'COST', 'PFE', 'EXC', 'XOM', 'MRNA', 'MSFT', 'JPM', 'WMT', 'DUK', 'TGT', 'BAC', 'OXY', 'DIS', 'PEP', 'GE', 'CVX', 'CAT', 'MCD', 'AMZN', 'SBUX', 'UNP', 'COP', 'INTC', 'GOOGL', 'T', 'AAPL', 'NKE', 'VZ', 'MRK', 'JNJ', 'SLB', 'WFC', 'SO', 'MMM', 'NVDA', 'MDLZ', 'GS', 'C', 'BMY']: YFPricesMissingError('possibly delisted; no price data found  (1h 2025-01-05 -> 2025-01-06)')\n",
      "[********              16%                       ]  8 of 50 completed"
     ]
    },
    {
     "name": "stdout",
     "output_type": "stream",
     "text": [
      "Error processing day 2025-01-05: array must not contain infs or NaNs\n",
      "Processing day: 2025-01-06 to 2025-01-07\n",
      "2025-01-06 to 2025-01-07\n"
     ]
    },
    {
     "name": "stderr",
     "output_type": "stream",
     "text": [
      "[*********************100%***********************]  50 of 50 completed\n",
      "[******                12%                       ]  6 of 50 completed"
     ]
    },
    {
     "name": "stdout",
     "output_type": "stream",
     "text": [
      "Processing day: 2025-01-07 to 2025-01-08\n",
      "2025-01-07 to 2025-01-08\n"
     ]
    },
    {
     "name": "stderr",
     "output_type": "stream",
     "text": [
      "[*********************100%***********************]  50 of 50 completed\n",
      "[****                   8%                       ]  4 of 50 completed"
     ]
    },
    {
     "name": "stdout",
     "output_type": "stream",
     "text": [
      "Processing day: 2025-01-08 to 2025-01-09\n",
      "2025-01-08 to 2025-01-09\n"
     ]
    },
    {
     "name": "stderr",
     "output_type": "stream",
     "text": [
      "[*********************100%***********************]  50 of 50 completed\n",
      "[***************       32%                       ]  16 of 50 completed"
     ]
    },
    {
     "name": "stdout",
     "output_type": "stream",
     "text": [
      "Processing day: 2025-01-09 to 2025-01-10\n",
      "2025-01-09 to 2025-01-10\n"
     ]
    },
    {
     "name": "stderr",
     "output_type": "stream",
     "text": [
      "[*********************100%***********************]  50 of 50 completed\n",
      "\n",
      "50 Failed downloads:\n",
      "['EXC', 'PG', 'MS', 'MSFT', 'NEE', 'XOM', 'HON', 'KO', 'CSCO', 'WMT', 'PFE', 'BA', 'DUK', 'META', 'HAL', 'HD', 'MRNA', 'COST', 'APD', 'PEP', 'JPM', 'VZ', 'BMY', 'T', 'TGT', 'CAT', 'CVX', 'MCD', 'DIS', 'GOOGL', 'BAC', 'SBUX', 'OXY', 'INTC', 'AAPL', 'UNP', 'NKE', 'MRK', 'AMZN', 'MDLZ', 'GE', 'COP', 'MMM', 'GS', 'SLB', 'SO', 'WFC', 'NVDA', 'JNJ', 'C']: YFPricesMissingError('possibly delisted; no price data found  (1h 2025-01-09 -> 2025-01-10)')\n",
      "[******                12%                       ]  6 of 50 completed"
     ]
    },
    {
     "name": "stdout",
     "output_type": "stream",
     "text": [
      "Error processing day 2025-01-09: array must not contain infs or NaNs\n",
      "Processing day: 2025-01-10 to 2025-01-11\n",
      "2025-01-10 to 2025-01-11\n"
     ]
    },
    {
     "name": "stderr",
     "output_type": "stream",
     "text": [
      "[*********************100%***********************]  50 of 50 completed\n",
      "[*********             18%                       ]  9 of 50 completed"
     ]
    },
    {
     "name": "stdout",
     "output_type": "stream",
     "text": [
      "Processing day: 2025-01-11 to 2025-01-12\n",
      "2025-01-11 to 2025-01-12\n"
     ]
    },
    {
     "name": "stderr",
     "output_type": "stream",
     "text": [
      "[*********************100%***********************]  50 of 50 completed\n",
      "\n",
      "50 Failed downloads:\n",
      "['EXC', 'PG', 'CSCO', 'KO', 'DUK', 'BA', 'APD', 'PFE', 'MS', 'XOM', 'HON', 'NEE', 'HD', 'WMT', 'HAL', 'JPM', 'MRNA', 'MSFT', 'META', 'COST', 'TGT', 'PEP', 'BAC', 'VZ', 'UNP', 'CAT', 'MRK', 'BMY', 'GOOGL', 'T', 'DIS', 'CVX', 'OXY', 'MCD', 'NKE', 'AMZN', 'SBUX', 'AAPL', 'COP', 'C', 'WFC', 'MMM', 'INTC', 'MDLZ', 'NVDA', 'GE', 'SLB', 'JNJ', 'SO', 'GS']: YFPricesMissingError('possibly delisted; no price data found  (1h 2025-01-11 -> 2025-01-12)')\n",
      "[************          24%                       ]  12 of 50 completed"
     ]
    },
    {
     "name": "stdout",
     "output_type": "stream",
     "text": [
      "Error processing day 2025-01-11: array must not contain infs or NaNs\n",
      "Processing day: 2025-01-12 to 2025-01-13\n",
      "2025-01-12 to 2025-01-13\n"
     ]
    },
    {
     "name": "stderr",
     "output_type": "stream",
     "text": [
      "[*********************100%***********************]  50 of 50 completed\n",
      "\n",
      "50 Failed downloads:\n",
      "['XOM', 'MSFT', 'HD', 'HAL', 'EXC', 'BA', 'MRNA', 'PG', 'COST', 'MS', 'KO', 'PFE', 'META', 'WMT', 'HON', 'APD', 'NEE', 'DUK', 'CSCO', 'TGT', 'JPM', 'BMY', 'CAT', 'OXY', 'BAC', 'DIS', 'AAPL', 'MRK', 'VZ', 'PEP', 'GOOGL', 'UNP', 'T', 'MCD', 'CVX', 'COP', 'SBUX', 'INTC', 'MDLZ', 'NKE', 'GE', 'WFC', 'AMZN', 'JNJ', 'MMM', 'SLB', 'GS', 'SO', 'C', 'NVDA']: YFPricesMissingError('possibly delisted; no price data found  (1h 2025-01-12 -> 2025-01-13)')\n",
      "[                       0%                       ]"
     ]
    },
    {
     "name": "stdout",
     "output_type": "stream",
     "text": [
      "Error processing day 2025-01-12: array must not contain infs or NaNs\n",
      "Processing day: 2025-01-13 to 2025-01-14\n",
      "2025-01-13 to 2025-01-14\n"
     ]
    },
    {
     "name": "stderr",
     "output_type": "stream",
     "text": [
      "[*********************100%***********************]  50 of 50 completed\n",
      "[**                     4%                       ]  2 of 50 completed"
     ]
    },
    {
     "name": "stdout",
     "output_type": "stream",
     "text": [
      "Processing day: 2025-01-14 to 2025-01-15\n",
      "2025-01-14 to 2025-01-15\n"
     ]
    },
    {
     "name": "stderr",
     "output_type": "stream",
     "text": [
      "[*********************100%***********************]  50 of 50 completed\n",
      "\n",
      "1 Failed download:\n",
      "['AAPL']: Timeout('Failed to perform, curl: (28) Connection timed out after 10003 milliseconds. See https://curl.se/libcurl/c/libcurl-errors.html first for more details.')\n",
      "[*****                 10%                       ]  5 of 50 completed"
     ]
    },
    {
     "name": "stdout",
     "output_type": "stream",
     "text": [
      "Processing day: 2025-01-15 to 2025-01-16\n",
      "2025-01-15 to 2025-01-16\n"
     ]
    },
    {
     "name": "stderr",
     "output_type": "stream",
     "text": [
      "[*********************100%***********************]  50 of 50 completed\n",
      "[***                    6%                       ]  3 of 50 completed"
     ]
    },
    {
     "name": "stdout",
     "output_type": "stream",
     "text": [
      "Processing day: 2025-01-16 to 2025-01-17\n",
      "2025-01-16 to 2025-01-17\n"
     ]
    },
    {
     "name": "stderr",
     "output_type": "stream",
     "text": [
      "[*********************100%***********************]  50 of 50 completed\n",
      "[****                   8%                       ]  4 of 50 completed"
     ]
    },
    {
     "name": "stdout",
     "output_type": "stream",
     "text": [
      "Processing day: 2025-01-17 to 2025-01-18\n",
      "2025-01-17 to 2025-01-18\n"
     ]
    },
    {
     "name": "stderr",
     "output_type": "stream",
     "text": [
      "[*********************100%***********************]  50 of 50 completed\n",
      "[***                    6%                       ]  3 of 50 completed"
     ]
    },
    {
     "name": "stdout",
     "output_type": "stream",
     "text": [
      "Processing day: 2025-01-18 to 2025-01-19\n",
      "2025-01-18 to 2025-01-19\n"
     ]
    },
    {
     "name": "stderr",
     "output_type": "stream",
     "text": [
      "[*********************100%***********************]  49 of 50 completed\n",
      "\n",
      "50 Failed downloads:\n",
      "[*********************100%***********************]  49 of 50 completed['XOM', 'MS', 'PFE', 'APD', 'EXC', 'MRNA', 'BA', 'COST', 'META', 'PG', 'MSFT', 'KO', 'CSCO', 'JPM', 'HON', 'DUK', 'NEE', 'WMT', 'HAL', 'HD', 'BAC', 'TGT', 'PEP', 'VZ', 'BMY', 'DIS', 'UNP', 'AAPL', 'MRK', 'CVX', 'NKE', 'T', 'INTC', 'GOOGL', 'AMZN', 'SBUX', 'C', 'CAT', 'MDLZ', 'OXY', 'COP', 'GE', 'MCD', 'SO', 'WFC', 'MMM', 'SLB', 'JNJ', 'GS', 'NVDA']: YFPricesMissingError('possibly delisted; no price data found  (1h 2025-01-18 -> 2025-01-19)')\n",
      "[************          26%                       ]  13 of 50 completed"
     ]
    },
    {
     "name": "stdout",
     "output_type": "stream",
     "text": [
      "Error processing day 2025-01-18: array must not contain infs or NaNs\n",
      "Processing day: 2025-01-19 to 2025-01-20\n",
      "2025-01-19 to 2025-01-20\n"
     ]
    },
    {
     "name": "stderr",
     "output_type": "stream",
     "text": [
      "[*********************100%***********************]  50 of 50 completed\n",
      "\n",
      "50 Failed downloads:\n",
      "['EXC', 'PG', 'MS', 'DUK', 'APD', 'WMT', 'JPM', 'BA', 'NEE', 'HON', 'XOM', 'COST', 'META', 'MSFT', 'CSCO', 'KO', 'HAL', 'BAC', 'MRNA', 'HD', 'VZ', 'PEP', 'TGT', 'MCD', 'PFE', 'OXY', 'AAPL', 'DIS', 'T', 'BMY', 'GE', 'NKE', 'CVX', 'MRK', 'MDLZ', 'UNP', 'GOOGL', 'AMZN', 'C', 'SO', 'JNJ', 'SLB', 'MMM', 'COP', 'NVDA', 'INTC', 'SBUX', 'WFC', 'CAT', 'GS']: YFPricesMissingError('possibly delisted; no price data found  (1h 2025-01-19 -> 2025-01-20)')\n",
      "[*********             18%                       ]  9 of 50 completed"
     ]
    },
    {
     "name": "stdout",
     "output_type": "stream",
     "text": [
      "Error processing day 2025-01-19: array must not contain infs or NaNs\n",
      "Processing day: 2025-01-20 to 2025-01-21\n",
      "2025-01-20 to 2025-01-21\n"
     ]
    },
    {
     "name": "stderr",
     "output_type": "stream",
     "text": [
      "[*********************100%***********************]  50 of 50 completed\n",
      "\n",
      "50 Failed downloads:\n",
      "['EXC', 'MS', 'DUK', 'BA', 'KO', 'HD', 'HON', 'META', 'WMT', 'PG', 'MSFT', 'NEE', 'APD', 'MRNA', 'XOM', 'HAL', 'CSCO', 'PFE', 'JPM', 'COST', 'PEP', 'TGT', 'VZ', 'BAC', 'CAT', 'OXY', 'NKE', 'BMY', 'AAPL', 'T', 'CVX', 'GOOGL', 'DIS', 'AMZN', 'UNP', 'MRK', 'INTC', 'GE', 'SBUX', 'WFC', 'MCD', 'COP', 'MDLZ', 'C', 'MMM', 'NVDA', 'SO', 'JNJ', 'SLB', 'GS']: YFPricesMissingError('possibly delisted; no price data found  (1h 2025-01-20 -> 2025-01-21)')\n",
      "[**                     4%                       ]  2 of 50 completed"
     ]
    },
    {
     "name": "stdout",
     "output_type": "stream",
     "text": [
      "Error processing day 2025-01-20: array must not contain infs or NaNs\n",
      "Processing day: 2025-01-21 to 2025-01-22\n",
      "2025-01-21 to 2025-01-22\n"
     ]
    },
    {
     "name": "stderr",
     "output_type": "stream",
     "text": [
      "[*********************100%***********************]  50 of 50 completed\n",
      "[****                   8%                       ]  4 of 50 completed"
     ]
    },
    {
     "name": "stdout",
     "output_type": "stream",
     "text": [
      "Processing day: 2025-01-22 to 2025-01-23\n",
      "2025-01-22 to 2025-01-23\n"
     ]
    },
    {
     "name": "stderr",
     "output_type": "stream",
     "text": [
      "[*********************100%***********************]  50 of 50 completed\n",
      "[****                   8%                       ]  4 of 50 completed"
     ]
    },
    {
     "name": "stdout",
     "output_type": "stream",
     "text": [
      "Processing day: 2025-01-23 to 2025-01-24\n",
      "2025-01-23 to 2025-01-24\n"
     ]
    },
    {
     "name": "stderr",
     "output_type": "stream",
     "text": [
      "[*********************100%***********************]  50 of 50 completed\n",
      "[                       0%                       ]"
     ]
    },
    {
     "name": "stdout",
     "output_type": "stream",
     "text": [
      "Processing day: 2025-01-24 to 2025-01-25\n",
      "2025-01-24 to 2025-01-25\n"
     ]
    },
    {
     "name": "stderr",
     "output_type": "stream",
     "text": [
      "[*********************100%***********************]  50 of 50 completed\n",
      "[************          26%                       ]  13 of 50 completed"
     ]
    },
    {
     "name": "stdout",
     "output_type": "stream",
     "text": [
      "Processing day: 2025-01-25 to 2025-01-26\n",
      "2025-01-25 to 2025-01-26\n"
     ]
    },
    {
     "name": "stderr",
     "output_type": "stream",
     "text": [
      "[*********************100%***********************]  50 of 50 completed\n",
      "\n",
      "50 Failed downloads:\n",
      "['MS', 'DUK', 'XOM', 'WMT', 'NEE', 'HD', 'EXC', 'BA', 'MRNA', 'PG', 'COST', 'KO', 'MSFT', 'JPM', 'APD', 'CSCO', 'META', 'HAL', 'PFE', 'HON', 'PEP', 'VZ', 'BMY', 'TGT', 'T', 'DIS', 'MRK', 'BAC', 'GE', 'CVX', 'MCD', 'OXY', 'UNP', 'NKE', 'CAT', 'INTC', 'AMZN', 'GOOGL', 'SBUX', 'AAPL', 'COP', 'SO', 'WFC', 'NVDA', 'MDLZ', 'MMM', 'JNJ', 'SLB', 'C', 'GS']: YFPricesMissingError('possibly delisted; no price data found  (1h 2025-01-25 -> 2025-01-26)')\n",
      "[**********            20%                       ]  10 of 50 completed"
     ]
    },
    {
     "name": "stdout",
     "output_type": "stream",
     "text": [
      "Error processing day 2025-01-25: array must not contain infs or NaNs\n",
      "Processing day: 2025-01-26 to 2025-01-27\n",
      "2025-01-26 to 2025-01-27\n"
     ]
    },
    {
     "name": "stderr",
     "output_type": "stream",
     "text": [
      "[*********************100%***********************]  50 of 50 completed\n",
      "\n",
      "50 Failed downloads:\n",
      "['MSFT', 'APD', 'KO', 'HD', 'HAL', 'XOM', 'EXC', 'PG', 'MS', 'NEE', 'HON', 'WMT', 'CSCO', 'DUK', 'JPM', 'BA', 'COST', 'MRNA', 'PFE', 'BAC', 'META', 'DIS', 'PEP', 'TGT', 'VZ', 'OXY', 'MCD', 'MRK', 'NKE', 'CAT', 'INTC', 'T', 'UNP', 'AAPL', 'BMY', 'GE', 'AMZN', 'CVX', 'GOOGL', 'SBUX', 'COP', 'WFC', 'SO', 'SLB', 'NVDA', 'JNJ', 'C', 'MDLZ', 'MMM', 'GS']: YFPricesMissingError('possibly delisted; no price data found  (1h 2025-01-26 -> 2025-01-27)')\n",
      "[*****                 10%                       ]  5 of 50 completed"
     ]
    },
    {
     "name": "stdout",
     "output_type": "stream",
     "text": [
      "Error processing day 2025-01-26: array must not contain infs or NaNs\n",
      "Processing day: 2025-01-27 to 2025-01-28\n",
      "2025-01-27 to 2025-01-28\n"
     ]
    },
    {
     "name": "stderr",
     "output_type": "stream",
     "text": [
      "[*********************100%***********************]  50 of 50 completed\n",
      "[****                   8%                       ]  4 of 50 completed"
     ]
    },
    {
     "name": "stdout",
     "output_type": "stream",
     "text": [
      "Processing day: 2025-01-28 to 2025-01-29\n",
      "2025-01-28 to 2025-01-29\n"
     ]
    },
    {
     "name": "stderr",
     "output_type": "stream",
     "text": [
      "[*********************100%***********************]  50 of 50 completed\n",
      "\n",
      "1 Failed download:\n",
      "['COP']: Timeout('Failed to perform, curl: (28) Operation timed out after 10009 milliseconds with 0 bytes received. See https://curl.se/libcurl/c/libcurl-errors.html first for more details.')\n",
      "[                       0%                       ]"
     ]
    },
    {
     "name": "stdout",
     "output_type": "stream",
     "text": [
      "Processing day: 2025-01-29 to 2025-01-30\n",
      "2025-01-29 to 2025-01-30\n"
     ]
    },
    {
     "name": "stderr",
     "output_type": "stream",
     "text": [
      "[*********************100%***********************]  50 of 50 completed\n",
      "[******                12%                       ]  6 of 50 completed"
     ]
    },
    {
     "name": "stdout",
     "output_type": "stream",
     "text": [
      "Processing day: 2025-01-30 to 2025-01-31\n",
      "2025-01-30 to 2025-01-31\n"
     ]
    },
    {
     "name": "stderr",
     "output_type": "stream",
     "text": [
      "[*********************100%***********************]  50 of 50 completed\n",
      "[****                   8%                       ]  4 of 50 completed"
     ]
    },
    {
     "name": "stdout",
     "output_type": "stream",
     "text": [
      "Processing day: 2025-01-31 to 2025-02-01\n",
      "2025-01-31 to 2025-02-01\n"
     ]
    },
    {
     "name": "stderr",
     "output_type": "stream",
     "text": [
      "[*********************100%***********************]  50 of 50 completed\n"
     ]
    }
   ],
   "source": [
    "algo_names = [\"gcsq\", \"pam\", \"sponge\", \"sponge_sym\"]\n",
    "penalty_results = {}\n",
    "for algo in algo_names:\n",
    "    penalty_results[algo] = []\n",
    "    penalty_results[algo+\"_k\"] = []\n",
    "    penalty_results[\"date\"] = []\n",
    "\n",
    "# Use the tickers list already defined\n",
    "interval = '1h'\n",
    "\n",
    "# Use the quarters list already defined (12 quarters before)\n",
    "for i, date in enumerate(days[:-1]):\n",
    "    # Start date is the first day of the quarter\n",
    "    try:\n",
    "        start_date = date\n",
    "        end_date = days[i+1]\n",
    "        print(f\"Processing day: {start_date.strftime('%Y-%m-%d')} to {end_date.strftime('%Y-%m-%d')}\")\n",
    "\n",
    "\n",
    "        start_date = start_date.strftime('%Y-%m-%d')\n",
    "        end_date = end_date.strftime('%Y-%m-%d')\n",
    "        print(f\"{start_date} to {end_date}\")\n",
    "\n",
    "\n",
    "        df = yf.download(tickers, start=start_date, end=end_date, interval=interval)['Close']\n",
    "        df = df.replace([np.inf, -np.inf], np.nan)\n",
    "        df = df.dropna(axis=1, how='any')\n",
    "        if df.shape[1] < 10:  # Skip months with too few stocks\n",
    "            for algo in algo_names:\n",
    "                penalty_results[algo].append(np.nan)\n",
    "            continue\n",
    "\n",
    "        tickers_month = list(df.columns)\n",
    "        price_df = df\n",
    "        returns_df = price_df.pct_change().dropna()\n",
    "        corr_matrix = returns_df.corr()\n",
    "        corr_matrix_np = corr_matrix.values\n",
    "        adj_matrix = corr_matrix_np.copy()\n",
    "\n",
    "        # Spectral gap method for k\n",
    "        L_dual = dual_laplacian(adj_matrix)\n",
    "        eigvals, eigvecs = eigh(L_dual)\n",
    "        k = spectral_gap_method(eigvals, adj_matrix.shape[0])\n",
    "\n",
    "        # GCS-Q (D-Wave Quantum Annealer)\n",
    "        clusters_gcsq = gcs_q_algorithm(adj_matrix, qubo_solver=\"dwave\")\n",
    "        penalty_gcsq = penalty_metric(adj_matrix, clusters_gcsq)\n",
    "        penalty_results[\"gcsq\"].append(penalty_gcsq)\n",
    "        penalty_results[\"gcsq_k\"].append(len(clusters_gcsq))\n",
    "\n",
    "        # PAM\n",
    "        alpha = 2\n",
    "        distance_matrix = np.sqrt(alpha * (1 - adj_matrix.clip(min=-1, max=1)))\n",
    "        _, clusters_pam = pam(distance_matrix, k=k)\n",
    "        clusters_pam = sorted([sorted(cluster) for cluster in clusters_pam])\n",
    "        penalty_pam = penalty_metric(adj_matrix, clusters_pam)\n",
    "        penalty_results[\"pam\"].append(penalty_pam)\n",
    "        penalty_results[\"pam_k\"].append(len(clusters_pam))\n",
    "\n",
    "        # SPONGE\n",
    "        np.random.seed(42)\n",
    "        clusters_sponge = sponge_clustering_wrapper(adj_matrix, k, method='SPONGE')\n",
    "        if clusters_sponge is not None:\n",
    "            clusters_sponge = sorted([sorted(cluster) for cluster in clusters_sponge])\n",
    "            penalty_sponge = penalty_metric(adj_matrix, clusters_sponge)\n",
    "        else:\n",
    "            penalty_sponge = np.nan\n",
    "        penalty_results[\"sponge\"].append(penalty_sponge)\n",
    "        penalty_results[\"sponge_k\"].append(len(clusters_sponge))\n",
    "\n",
    "        # SPONGE_sym\n",
    "        clusters_sponge_sym = sponge_clustering_wrapper(adj_matrix, k, method='SPONGE_sym')\n",
    "        if clusters_sponge_sym is not None:\n",
    "            clusters_sponge_sym = sorted([sorted(cluster) for cluster in clusters_sponge_sym])\n",
    "            penalty_sponge_sym = penalty_metric(adj_matrix, clusters_sponge_sym)\n",
    "        else:\n",
    "            penalty_sponge_sym = np.nan\n",
    "        penalty_results[\"sponge_sym\"].append(penalty_sponge_sym)\n",
    "        penalty_results[\"sponge_sym_k\"].append(len(clusters_sponge_sym))\n",
    "        penalty_results[\"date\"].append(start_date)\n",
    "    except Exception as e:\n",
    "        print(f\"Error processing day {start_date}: {e}\")\n",
    "        continue"
   ]
  },
  {
   "cell_type": "code",
   "execution_count": 104,
   "metadata": {},
   "outputs": [
    {
     "data": {
      "text/plain": [
       "[('gcsq', 20),\n",
       " ('gcsq_k', 20),\n",
       " ('date', 20),\n",
       " ('pam', 20),\n",
       " ('pam_k', 20),\n",
       " ('sponge', 20),\n",
       " ('sponge_k', 20),\n",
       " ('sponge_sym', 20),\n",
       " ('sponge_sym_k', 20)]"
      ]
     },
     "execution_count": 104,
     "metadata": {},
     "output_type": "execute_result"
    }
   ],
   "source": [
    "[(key,len(penalty_results[key])) for key in penalty_results]"
   ]
  },
  {
   "cell_type": "code",
   "execution_count": null,
   "metadata": {},
   "outputs": [
    {
     "data": {
      "text/html": [
       "<div>\n",
       "<style scoped>\n",
       "    .dataframe tbody tr th:only-of-type {\n",
       "        vertical-align: middle;\n",
       "    }\n",
       "\n",
       "    .dataframe tbody tr th {\n",
       "        vertical-align: top;\n",
       "    }\n",
       "\n",
       "    .dataframe thead th {\n",
       "        text-align: right;\n",
       "    }\n",
       "</style>\n",
       "<table border=\"1\" class=\"dataframe\">\n",
       "  <thead>\n",
       "    <tr style=\"text-align: right;\">\n",
       "      <th></th>\n",
       "      <th>gcsq</th>\n",
       "      <th>gcsq_k</th>\n",
       "      <th>date</th>\n",
       "      <th>pam</th>\n",
       "      <th>pam_k</th>\n",
       "      <th>sponge</th>\n",
       "      <th>sponge_k</th>\n",
       "      <th>sponge_sym</th>\n",
       "      <th>sponge_sym_k</th>\n",
       "    </tr>\n",
       "  </thead>\n",
       "  <tbody>\n",
       "    <tr>\n",
       "      <th>0</th>\n",
       "      <td>28.737684</td>\n",
       "      <td>2</td>\n",
       "      <td>2025-01-02</td>\n",
       "      <td>526.781594</td>\n",
       "      <td>3</td>\n",
       "      <td>424.366058</td>\n",
       "      <td>3</td>\n",
       "      <td>435.784333</td>\n",
       "      <td>3</td>\n",
       "    </tr>\n",
       "    <tr>\n",
       "      <th>1</th>\n",
       "      <td>225.664142</td>\n",
       "      <td>11</td>\n",
       "      <td>2025-01-03</td>\n",
       "      <td>308.333941</td>\n",
       "      <td>4</td>\n",
       "      <td>325.305491</td>\n",
       "      <td>4</td>\n",
       "      <td>221.104899</td>\n",
       "      <td>4</td>\n",
       "    </tr>\n",
       "    <tr>\n",
       "      <th>2</th>\n",
       "      <td>53.981740</td>\n",
       "      <td>3</td>\n",
       "      <td>2025-01-06</td>\n",
       "      <td>458.430208</td>\n",
       "      <td>5</td>\n",
       "      <td>403.868151</td>\n",
       "      <td>5</td>\n",
       "      <td>499.130607</td>\n",
       "      <td>5</td>\n",
       "    </tr>\n",
       "    <tr>\n",
       "      <th>3</th>\n",
       "      <td>67.551998</td>\n",
       "      <td>1</td>\n",
       "      <td>2025-01-07</td>\n",
       "      <td>502.388586</td>\n",
       "      <td>4</td>\n",
       "      <td>535.346074</td>\n",
       "      <td>4</td>\n",
       "      <td>429.366169</td>\n",
       "      <td>4</td>\n",
       "    </tr>\n",
       "    <tr>\n",
       "      <th>4</th>\n",
       "      <td>59.715303</td>\n",
       "      <td>2</td>\n",
       "      <td>2025-01-08</td>\n",
       "      <td>472.489884</td>\n",
       "      <td>4</td>\n",
       "      <td>439.495619</td>\n",
       "      <td>4</td>\n",
       "      <td>430.257689</td>\n",
       "      <td>4</td>\n",
       "    </tr>\n",
       "    <tr>\n",
       "      <th>5</th>\n",
       "      <td>81.246177</td>\n",
       "      <td>4</td>\n",
       "      <td>2025-01-10</td>\n",
       "      <td>462.525073</td>\n",
       "      <td>3</td>\n",
       "      <td>154.329792</td>\n",
       "      <td>3</td>\n",
       "      <td>341.446655</td>\n",
       "      <td>3</td>\n",
       "    </tr>\n",
       "    <tr>\n",
       "      <th>6</th>\n",
       "      <td>170.052314</td>\n",
       "      <td>3</td>\n",
       "      <td>2025-01-13</td>\n",
       "      <td>300.885594</td>\n",
       "      <td>5</td>\n",
       "      <td>279.305951</td>\n",
       "      <td>5</td>\n",
       "      <td>312.958297</td>\n",
       "      <td>5</td>\n",
       "    </tr>\n",
       "    <tr>\n",
       "      <th>7</th>\n",
       "      <td>49.261757</td>\n",
       "      <td>5</td>\n",
       "      <td>2025-01-14</td>\n",
       "      <td>520.021362</td>\n",
       "      <td>3</td>\n",
       "      <td>288.549181</td>\n",
       "      <td>3</td>\n",
       "      <td>402.497203</td>\n",
       "      <td>3</td>\n",
       "    </tr>\n",
       "    <tr>\n",
       "      <th>8</th>\n",
       "      <td>100.122216</td>\n",
       "      <td>2</td>\n",
       "      <td>2025-01-15</td>\n",
       "      <td>450.031822</td>\n",
       "      <td>4</td>\n",
       "      <td>393.379722</td>\n",
       "      <td>4</td>\n",
       "      <td>397.714576</td>\n",
       "      <td>4</td>\n",
       "    </tr>\n",
       "    <tr>\n",
       "      <th>9</th>\n",
       "      <td>86.271185</td>\n",
       "      <td>2</td>\n",
       "      <td>2025-01-16</td>\n",
       "      <td>365.393080</td>\n",
       "      <td>5</td>\n",
       "      <td>365.534513</td>\n",
       "      <td>5</td>\n",
       "      <td>353.906906</td>\n",
       "      <td>5</td>\n",
       "    </tr>\n",
       "    <tr>\n",
       "      <th>10</th>\n",
       "      <td>130.565574</td>\n",
       "      <td>3</td>\n",
       "      <td>2025-01-17</td>\n",
       "      <td>337.046467</td>\n",
       "      <td>8</td>\n",
       "      <td>350.725201</td>\n",
       "      <td>8</td>\n",
       "      <td>353.357150</td>\n",
       "      <td>8</td>\n",
       "    </tr>\n",
       "    <tr>\n",
       "      <th>11</th>\n",
       "      <td>155.426827</td>\n",
       "      <td>10</td>\n",
       "      <td>2025-01-21</td>\n",
       "      <td>222.544499</td>\n",
       "      <td>3</td>\n",
       "      <td>206.103915</td>\n",
       "      <td>3</td>\n",
       "      <td>206.103915</td>\n",
       "      <td>3</td>\n",
       "    </tr>\n",
       "    <tr>\n",
       "      <th>12</th>\n",
       "      <td>103.382103</td>\n",
       "      <td>4</td>\n",
       "      <td>2025-01-22</td>\n",
       "      <td>213.712288</td>\n",
       "      <td>4</td>\n",
       "      <td>201.342497</td>\n",
       "      <td>4</td>\n",
       "      <td>171.988959</td>\n",
       "      <td>4</td>\n",
       "    </tr>\n",
       "    <tr>\n",
       "      <th>13</th>\n",
       "      <td>156.024397</td>\n",
       "      <td>9</td>\n",
       "      <td>2025-01-23</td>\n",
       "      <td>92.415911</td>\n",
       "      <td>3</td>\n",
       "      <td>250.575522</td>\n",
       "      <td>3</td>\n",
       "      <td>85.083206</td>\n",
       "      <td>3</td>\n",
       "    </tr>\n",
       "    <tr>\n",
       "      <th>14</th>\n",
       "      <td>191.679175</td>\n",
       "      <td>3</td>\n",
       "      <td>2025-01-24</td>\n",
       "      <td>349.080663</td>\n",
       "      <td>4</td>\n",
       "      <td>313.955454</td>\n",
       "      <td>4</td>\n",
       "      <td>319.606248</td>\n",
       "      <td>4</td>\n",
       "    </tr>\n",
       "    <tr>\n",
       "      <th>15</th>\n",
       "      <td>149.164438</td>\n",
       "      <td>3</td>\n",
       "      <td>2025-01-27</td>\n",
       "      <td>346.996667</td>\n",
       "      <td>5</td>\n",
       "      <td>334.824641</td>\n",
       "      <td>5</td>\n",
       "      <td>337.894429</td>\n",
       "      <td>5</td>\n",
       "    </tr>\n",
       "    <tr>\n",
       "      <th>16</th>\n",
       "      <td>158.516699</td>\n",
       "      <td>4</td>\n",
       "      <td>2025-01-28</td>\n",
       "      <td>250.283021</td>\n",
       "      <td>4</td>\n",
       "      <td>235.201974</td>\n",
       "      <td>4</td>\n",
       "      <td>243.885599</td>\n",
       "      <td>4</td>\n",
       "    </tr>\n",
       "    <tr>\n",
       "      <th>17</th>\n",
       "      <td>40.666847</td>\n",
       "      <td>3</td>\n",
       "      <td>2025-01-29</td>\n",
       "      <td>864.099373</td>\n",
       "      <td>7</td>\n",
       "      <td>797.996266</td>\n",
       "      <td>7</td>\n",
       "      <td>819.715817</td>\n",
       "      <td>7</td>\n",
       "    </tr>\n",
       "    <tr>\n",
       "      <th>18</th>\n",
       "      <td>79.945708</td>\n",
       "      <td>6</td>\n",
       "      <td>2025-01-30</td>\n",
       "      <td>627.237066</td>\n",
       "      <td>6</td>\n",
       "      <td>506.779419</td>\n",
       "      <td>6</td>\n",
       "      <td>543.564550</td>\n",
       "      <td>6</td>\n",
       "    </tr>\n",
       "    <tr>\n",
       "      <th>19</th>\n",
       "      <td>177.909802</td>\n",
       "      <td>9</td>\n",
       "      <td>2025-01-31</td>\n",
       "      <td>344.833942</td>\n",
       "      <td>4</td>\n",
       "      <td>359.239389</td>\n",
       "      <td>4</td>\n",
       "      <td>261.049537</td>\n",
       "      <td>4</td>\n",
       "    </tr>\n",
       "  </tbody>\n",
       "</table>\n",
       "</div>"
      ],
      "text/plain": [
       "          gcsq  gcsq_k        date         pam  pam_k      sponge  sponge_k  \\\n",
       "0    28.737684       2  2025-01-02  526.781594      3  424.366058         3   \n",
       "1   225.664142      11  2025-01-03  308.333941      4  325.305491         4   \n",
       "2    53.981740       3  2025-01-06  458.430208      5  403.868151         5   \n",
       "3    67.551998       1  2025-01-07  502.388586      4  535.346074         4   \n",
       "4    59.715303       2  2025-01-08  472.489884      4  439.495619         4   \n",
       "5    81.246177       4  2025-01-10  462.525073      3  154.329792         3   \n",
       "6   170.052314       3  2025-01-13  300.885594      5  279.305951         5   \n",
       "7    49.261757       5  2025-01-14  520.021362      3  288.549181         3   \n",
       "8   100.122216       2  2025-01-15  450.031822      4  393.379722         4   \n",
       "9    86.271185       2  2025-01-16  365.393080      5  365.534513         5   \n",
       "10  130.565574       3  2025-01-17  337.046467      8  350.725201         8   \n",
       "11  155.426827      10  2025-01-21  222.544499      3  206.103915         3   \n",
       "12  103.382103       4  2025-01-22  213.712288      4  201.342497         4   \n",
       "13  156.024397       9  2025-01-23   92.415911      3  250.575522         3   \n",
       "14  191.679175       3  2025-01-24  349.080663      4  313.955454         4   \n",
       "15  149.164438       3  2025-01-27  346.996667      5  334.824641         5   \n",
       "16  158.516699       4  2025-01-28  250.283021      4  235.201974         4   \n",
       "17   40.666847       3  2025-01-29  864.099373      7  797.996266         7   \n",
       "18   79.945708       6  2025-01-30  627.237066      6  506.779419         6   \n",
       "19  177.909802       9  2025-01-31  344.833942      4  359.239389         4   \n",
       "\n",
       "    sponge_sym  sponge_sym_k  \n",
       "0   435.784333             3  \n",
       "1   221.104899             4  \n",
       "2   499.130607             5  \n",
       "3   429.366169             4  \n",
       "4   430.257689             4  \n",
       "5   341.446655             3  \n",
       "6   312.958297             5  \n",
       "7   402.497203             3  \n",
       "8   397.714576             4  \n",
       "9   353.906906             5  \n",
       "10  353.357150             8  \n",
       "11  206.103915             3  \n",
       "12  171.988959             4  \n",
       "13   85.083206             3  \n",
       "14  319.606248             4  \n",
       "15  337.894429             5  \n",
       "16  243.885599             4  \n",
       "17  819.715817             7  \n",
       "18  543.564550             6  \n",
       "19  261.049537             4  "
      ]
     },
     "execution_count": 106,
     "metadata": {},
     "output_type": "execute_result"
    }
   ],
   "source": [
    "penalty_df = pd.DataFrame(penalty_results)\n",
    "penalty_df"
   ]
  },
  {
   "cell_type": "code",
   "execution_count": null,
   "metadata": {},
   "outputs": [],
   "source": [
    "penalty_df.to_csv(\"real_data_results_2025_Jan.csv\")"
   ]
  },
  {
   "cell_type": "code",
   "execution_count": 130,
   "metadata": {},
   "outputs": [],
   "source": [
    "penalty_df = pd.read_csv(\"real_data_results_2025_Jan.csv\", index_col=0)"
   ]
  },
  {
   "cell_type": "code",
   "execution_count": null,
   "metadata": {},
   "outputs": [
    {
     "data": {
      "image/png": "[encoded data removed]",
      "text/plain": [
       "<Figure size 1400x700 with 1 Axes>"
      ]
     },
     "metadata": {},
     "output_type": "display_data"
    }
   ],
   "source": [
    "import seaborn as sns\n",
    "import matplotlib.pyplot as plt\n",
    "\n",
    "plt.figure(figsize=(14, 7))\n",
    "sns.set(style=\"whitegrid\", font_scale=1.3)\n",
    "\n",
    "markers = {\n",
    "    'gcsq': 'X',\n",
    "    'pam': 's',\n",
    "    'sponge': 'o',\n",
    "    'sponge_sym': '^'\n",
    "}\n",
    "\n",
    "colors = {\n",
    "    'gcsq': '#2ca02c',      \n",
    "    'pam': '#ff7f0e',       \n",
    "    'sponge': '#1f77b4',    \n",
    "    'sponge_sym': '#d62728' \n",
    "}\n",
    "\n",
    "for algo in ['gcsq', 'pam', 'sponge', 'sponge_sym']:\n",
    "    # Format date as 'Jan-DD'\n",
    "    formatted_dates = pd.to_datetime(penalty_df['date']).dt.strftime('%d')\n",
    "    sns.lineplot(\n",
    "        x=formatted_dates, y=penalty_df[algo], \n",
    "        label=algo.upper(), marker=markers[algo], linewidth=4, alpha=0.85,\n",
    "        color=colors[algo]\n",
    "    )\n",
    "    # Increase marker size for better visibility\n",
    "    plt.setp(plt.gca().lines[-1], markersize=14)\n",
    "plt.xlabel('Dates (January 2025)', fontsize=24)\n",
    "plt.ylabel('Penalty', fontsize=28)\n",
    "\n",
    "plt.xticks(rotation=0, fontsize=22)\n",
    "plt.yticks(fontsize=22)\n",
    "plt.tight_layout()\n",
    "plt.legend(\n",
    "    loc='upper center',\n",
    "    bbox_to_anchor=(0.5, -0.150),\n",
    "    ncol=4,\n",
    "    fontsize=28,\n",
    "    title_fontsize=22,\n",
    "    frameon=True\n",
    ")\n",
    "plt.savefig('clustering_penalties.png', bbox_inches='tight', dpi=300)\n",
    "plt.show()\n"
   ]
  },
  {
   "cell_type": "code",
   "execution_count": null,
   "metadata": {},
   "outputs": [],
   "source": []
  }
 ],
 "metadata": {
  "kernelspec": {
   "display_name": "venv (3.12.2)",
   "language": "python",
   "name": "python3"
  },
  "language_info": {
   "codemirror_mode": {
    "name": "ipython",
    "version": 3
   },
   "file_extension": ".py",
   "mimetype": "text/x-python",
   "name": "python",
   "nbconvert_exporter": "python",
   "pygments_lexer": "ipython3",
   "version": "3.12.2"
  }
 },
 "nbformat": 4,
 "nbformat_minor": 2
}
